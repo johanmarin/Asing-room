{
  "nbformat": 4,
  "nbformat_minor": 0,
  "metadata": {
    "colab": {
      "name": "Asignación de Aulas.ipynb",
      "provenance": [],
      "collapsed_sections": []
    },
    "kernelspec": {
      "display_name": "Python 3",
      "name": "python3"
    },
    "language_info": {
      "name": "python"
    }
  },
  "cells": [
    {
      "cell_type": "markdown",
      "metadata": {
        "id": "cxTBuq7OdgTZ"
      },
      "source": [
        "# Modelo\n",
        "Lo primero que se hace separar en subconjuntos por días, es decir se sacan los subconjuntos de grupos para cada día y se soluciuona el modelo para cada día.\n",
        "\n",
        "## Conjuntos\n",
        "\n",
        "* $I$: Conjunto de clases  \n",
        "* $J$: Conjunto Salones  \n",
        "* $K$: Conjunto Franjas horarias Horas \n",
        "\n",
        "## Parametros\n",
        "\n",
        "$M_{ij}$: 1 si el salón $j$ tienes los medios que requiere la clase $i$ 0 e.o.c\n",
        "\n",
        "$C_{ij}$: 1 si el salón $j$ tiene la capacidad que requiere la clase $i$ 0 e.o.c.\n",
        "\n",
        "$H_{ik}$: 1 si el la clase $i$ se debe dictar en la hora $k$ 0 e.o.c.\n",
        "\n",
        "# Variables de desición\n",
        "\n",
        "$X_{ijk}$: 1 si el la clase $i$ fue asignada a el salón $j$  0 e.o.c.\n",
        "\n",
        "# Función Objetivo\n",
        "\n",
        "$$\n",
        "maximizar\\left( \\sum_{i \\in I}\\sum_{j \\in j}\\sum_{k \\in K}X_{ij} H_{ik} \\right)\n",
        "$$\n",
        "\n",
        "# Restricciones\n",
        "\n",
        "* Solo puede haber un grupo asignada a un salon en un mismo horario \n",
        "$$\\sum_{i \\in I} X_{ij}H_{ik} \\leq 1 \\ \\ \\ \\forall j \\in J, \\ \\forall k \\in K $$\n",
        "\n",
        "* La grupo solo puede ser asignada en el horario que fue programada\n",
        "\n",
        "$$ \\sum_{j \\in J} X_{ij}H_{ik} \\leq H_{ik} \\ \\ \\ \\ \\forall i \\in I, \\ \\forall k \\in K$$\n",
        "\n",
        "\n",
        "* Cada grupo solo se puede asignar a un salón \n",
        "\n",
        "$$\\sum_{j\\in J} X_{ij} \\leq 1  \\ \\ \\ \\ \\forall i \\in I$$\n",
        "\n",
        "\n",
        "* El aula asignada debe tener los medios necesarios para dictar la clase\n",
        "\n",
        "$$ X_{ij} M_{ij} = X_{ij} \\ \\ \\ \\ \\forall i \\in I, \\ \\forall j \\in J$$\n",
        "\n",
        "* El aula asignada debe tener la capacidad necesaria para el grupo\n",
        "\n",
        "$$ X_{ij} C_{ij} = X_{ij} \\ \\ \\ \\ \\forall i \\in I, \\ \\forall j \\in J$$\n"
      ]
    },
    {
      "cell_type": "markdown",
      "metadata": {
        "id": "214dtCTVnBp6"
      },
      "source": [
        "### Upload data"
      ]
    },
    {
      "cell_type": "markdown",
      "metadata": {
        "id": "dWxjiTF0780h"
      },
      "source": [
        "## Formas de implementar la tolerancia\n",
        "Asignar la tolerancia de acuerdo a la capacidad del aula"
      ]
    },
    {
      "cell_type": "code",
      "metadata": {
        "colab": {
          "base_uri": "https://localhost:8080/"
        },
        "id": "UHVg5R-lsLIw",
        "outputId": "cdfbe522-4de6-4fcd-8b77-17ba959b2fd9"
      },
      "source": [
        "# Instalar paquetes\n",
        "!pip install pulp\n",
        "!pip install import_from_github_com\n",
        "\n",
        "# Importar paquetes\n",
        "import pandas as pd\n",
        "from github_com.kennethreitz import requests\n",
        "from google.colab import files\n",
        "\n",
        "# Buscar modulo en github\n",
        "r = requests.get('https://raw.githubusercontent.com/johanmarin/Asing-room/main/asing_room.py')\n",
        "with open('asing_room.py', 'w') as f:\n",
        "  f.write(r.text)\n",
        "\n",
        "# Importar modulo\n",
        "from asing_room import run_model"
      ],
      "execution_count": 6,
      "outputs": [
        {
          "output_type": "stream",
          "text": [
            "Requirement already satisfied: pulp in /usr/local/lib/python3.7/dist-packages (2.4)\n",
            "Requirement already satisfied: amply>=0.1.2 in /usr/local/lib/python3.7/dist-packages (from pulp) (0.1.4)\n",
            "Requirement already satisfied: pyparsing in /usr/local/lib/python3.7/dist-packages (from amply>=0.1.2->pulp) (2.4.7)\n",
            "Requirement already satisfied: docutils>=0.3 in /usr/local/lib/python3.7/dist-packages (from amply>=0.1.2->pulp) (0.17.1)\n",
            "Requirement already satisfied: import_from_github_com in /usr/local/lib/python3.7/dist-packages (0.1)\n"
          ],
          "name": "stdout"
        }
      ]
    },
    {
      "cell_type": "code",
      "metadata": {
        "id": "M5CMnZWDkcve",
        "colab": {
          "resources": {
            "http://localhost:8080/nbextensions/google.colab/files.js": {
              "data": "Ly8gQ29weXJpZ2h0IDIwMTcgR29vZ2xlIExMQwovLwovLyBMaWNlbnNlZCB1bmRlciB0aGUgQXBhY2hlIExpY2Vuc2UsIFZlcnNpb24gMi4wICh0aGUgIkxpY2Vuc2UiKTsKLy8geW91IG1heSBub3QgdXNlIHRoaXMgZmlsZSBleGNlcHQgaW4gY29tcGxpYW5jZSB3aXRoIHRoZSBMaWNlbnNlLgovLyBZb3UgbWF5IG9idGFpbiBhIGNvcHkgb2YgdGhlIExpY2Vuc2UgYXQKLy8KLy8gICAgICBodHRwOi8vd3d3LmFwYWNoZS5vcmcvbGljZW5zZXMvTElDRU5TRS0yLjAKLy8KLy8gVW5sZXNzIHJlcXVpcmVkIGJ5IGFwcGxpY2FibGUgbGF3IG9yIGFncmVlZCB0byBpbiB3cml0aW5nLCBzb2Z0d2FyZQovLyBkaXN0cmlidXRlZCB1bmRlciB0aGUgTGljZW5zZSBpcyBkaXN0cmlidXRlZCBvbiBhbiAiQVMgSVMiIEJBU0lTLAovLyBXSVRIT1VUIFdBUlJBTlRJRVMgT1IgQ09ORElUSU9OUyBPRiBBTlkgS0lORCwgZWl0aGVyIGV4cHJlc3Mgb3IgaW1wbGllZC4KLy8gU2VlIHRoZSBMaWNlbnNlIGZvciB0aGUgc3BlY2lmaWMgbGFuZ3VhZ2UgZ292ZXJuaW5nIHBlcm1pc3Npb25zIGFuZAovLyBsaW1pdGF0aW9ucyB1bmRlciB0aGUgTGljZW5zZS4KCi8qKgogKiBAZmlsZW92ZXJ2aWV3IEhlbHBlcnMgZm9yIGdvb2dsZS5jb2xhYiBQeXRob24gbW9kdWxlLgogKi8KKGZ1bmN0aW9uKHNjb3BlKSB7CmZ1bmN0aW9uIHNwYW4odGV4dCwgc3R5bGVBdHRyaWJ1dGVzID0ge30pIHsKICBjb25zdCBlbGVtZW50ID0gZG9jdW1lbnQuY3JlYXRlRWxlbWVudCgnc3BhbicpOwogIGVsZW1lbnQudGV4dENvbnRlbnQgPSB0ZXh0OwogIGZvciAoY29uc3Qga2V5IG9mIE9iamVjdC5rZXlzKHN0eWxlQXR0cmlidXRlcykpIHsKICAgIGVsZW1lbnQuc3R5bGVba2V5XSA9IHN0eWxlQXR0cmlidXRlc1trZXldOwogIH0KICByZXR1cm4gZWxlbWVudDsKfQoKLy8gTWF4IG51bWJlciBvZiBieXRlcyB3aGljaCB3aWxsIGJlIHVwbG9hZGVkIGF0IGEgdGltZS4KY29uc3QgTUFYX1BBWUxPQURfU0laRSA9IDEwMCAqIDEwMjQ7CgpmdW5jdGlvbiBfdXBsb2FkRmlsZXMoaW5wdXRJZCwgb3V0cHV0SWQpIHsKICBjb25zdCBzdGVwcyA9IHVwbG9hZEZpbGVzU3RlcChpbnB1dElkLCBvdXRwdXRJZCk7CiAgY29uc3Qgb3V0cHV0RWxlbWVudCA9IGRvY3VtZW50LmdldEVsZW1lbnRCeUlkKG91dHB1dElkKTsKICAvLyBDYWNoZSBzdGVwcyBvbiB0aGUgb3V0cHV0RWxlbWVudCB0byBtYWtlIGl0IGF2YWlsYWJsZSBmb3IgdGhlIG5leHQgY2FsbAogIC8vIHRvIHVwbG9hZEZpbGVzQ29udGludWUgZnJvbSBQeXRob24uCiAgb3V0cHV0RWxlbWVudC5zdGVwcyA9IHN0ZXBzOwoKICByZXR1cm4gX3VwbG9hZEZpbGVzQ29udGludWUob3V0cHV0SWQpOwp9CgovLyBUaGlzIGlzIHJvdWdobHkgYW4gYXN5bmMgZ2VuZXJhdG9yIChub3Qgc3VwcG9ydGVkIGluIHRoZSBicm93c2VyIHlldCksCi8vIHdoZXJlIHRoZXJlIGFyZSBtdWx0aXBsZSBhc3luY2hyb25vdXMgc3RlcHMgYW5kIHRoZSBQeXRob24gc2lkZSBpcyBnb2luZwovLyB0byBwb2xsIGZvciBjb21wbGV0aW9uIG9mIGVhY2ggc3RlcC4KLy8gVGhpcyB1c2VzIGEgUHJvbWlzZSB0byBibG9jayB0aGUgcHl0aG9uIHNpZGUgb24gY29tcGxldGlvbiBvZiBlYWNoIHN0ZXAsCi8vIHRoZW4gcGFzc2VzIHRoZSByZXN1bHQgb2YgdGhlIHByZXZpb3VzIHN0ZXAgYXMgdGhlIGlucHV0IHRvIHRoZSBuZXh0IHN0ZXAuCmZ1bmN0aW9uIF91cGxvYWRGaWxlc0NvbnRpbnVlKG91dHB1dElkKSB7CiAgY29uc3Qgb3V0cHV0RWxlbWVudCA9IGRvY3VtZW50LmdldEVsZW1lbnRCeUlkKG91dHB1dElkKTsKICBjb25zdCBzdGVwcyA9IG91dHB1dEVsZW1lbnQuc3RlcHM7CgogIGNvbnN0IG5leHQgPSBzdGVwcy5uZXh0KG91dHB1dEVsZW1lbnQubGFzdFByb21pc2VWYWx1ZSk7CiAgcmV0dXJuIFByb21pc2UucmVzb2x2ZShuZXh0LnZhbHVlLnByb21pc2UpLnRoZW4oKHZhbHVlKSA9PiB7CiAgICAvLyBDYWNoZSB0aGUgbGFzdCBwcm9taXNlIHZhbHVlIHRvIG1ha2UgaXQgYXZhaWxhYmxlIHRvIHRoZSBuZXh0CiAgICAvLyBzdGVwIG9mIHRoZSBnZW5lcmF0b3IuCiAgICBvdXRwdXRFbGVtZW50Lmxhc3RQcm9taXNlVmFsdWUgPSB2YWx1ZTsKICAgIHJldHVybiBuZXh0LnZhbHVlLnJlc3BvbnNlOwogIH0pOwp9CgovKioKICogR2VuZXJhdG9yIGZ1bmN0aW9uIHdoaWNoIGlzIGNhbGxlZCBiZXR3ZWVuIGVhY2ggYXN5bmMgc3RlcCBvZiB0aGUgdXBsb2FkCiAqIHByb2Nlc3MuCiAqIEBwYXJhbSB7c3RyaW5nfSBpbnB1dElkIEVsZW1lbnQgSUQgb2YgdGhlIGlucHV0IGZpbGUgcGlja2VyIGVsZW1lbnQuCiAqIEBwYXJhbSB7c3RyaW5nfSBvdXRwdXRJZCBFbGVtZW50IElEIG9mIHRoZSBvdXRwdXQgZGlzcGxheS4KICogQHJldHVybiB7IUl0ZXJhYmxlPCFPYmplY3Q+fSBJdGVyYWJsZSBvZiBuZXh0IHN0ZXBzLgogKi8KZnVuY3Rpb24qIHVwbG9hZEZpbGVzU3RlcChpbnB1dElkLCBvdXRwdXRJZCkgewogIGNvbnN0IGlucHV0RWxlbWVudCA9IGRvY3VtZW50LmdldEVsZW1lbnRCeUlkKGlucHV0SWQpOwogIGlucHV0RWxlbWVudC5kaXNhYmxlZCA9IGZhbHNlOwoKICBjb25zdCBvdXRwdXRFbGVtZW50ID0gZG9jdW1lbnQuZ2V0RWxlbWVudEJ5SWQob3V0cHV0SWQpOwogIG91dHB1dEVsZW1lbnQuaW5uZXJIVE1MID0gJyc7CgogIGNvbnN0IHBpY2tlZFByb21pc2UgPSBuZXcgUHJvbWlzZSgocmVzb2x2ZSkgPT4gewogICAgaW5wdXRFbGVtZW50LmFkZEV2ZW50TGlzdGVuZXIoJ2NoYW5nZScsIChlKSA9PiB7CiAgICAgIHJlc29sdmUoZS50YXJnZXQuZmlsZXMpOwogICAgfSk7CiAgfSk7CgogIGNvbnN0IGNhbmNlbCA9IGRvY3VtZW50LmNyZWF0ZUVsZW1lbnQoJ2J1dHRvbicpOwogIGlucHV0RWxlbWVudC5wYXJlbnRFbGVtZW50LmFwcGVuZENoaWxkKGNhbmNlbCk7CiAgY2FuY2VsLnRleHRDb250ZW50ID0gJ0NhbmNlbCB1cGxvYWQnOwogIGNvbnN0IGNhbmNlbFByb21pc2UgPSBuZXcgUHJvbWlzZSgocmVzb2x2ZSkgPT4gewogICAgY2FuY2VsLm9uY2xpY2sgPSAoKSA9PiB7CiAgICAgIHJlc29sdmUobnVsbCk7CiAgICB9OwogIH0pOwoKICAvLyBXYWl0IGZvciB0aGUgdXNlciB0byBwaWNrIHRoZSBmaWxlcy4KICBjb25zdCBmaWxlcyA9IHlpZWxkIHsKICAgIHByb21pc2U6IFByb21pc2UucmFjZShbcGlja2VkUHJvbWlzZSwgY2FuY2VsUHJvbWlzZV0pLAogICAgcmVzcG9uc2U6IHsKICAgICAgYWN0aW9uOiAnc3RhcnRpbmcnLAogICAgfQogIH07CgogIGNhbmNlbC5yZW1vdmUoKTsKCiAgLy8gRGlzYWJsZSB0aGUgaW5wdXQgZWxlbWVudCBzaW5jZSBmdXJ0aGVyIHBpY2tzIGFyZSBub3QgYWxsb3dlZC4KICBpbnB1dEVsZW1lbnQuZGlzYWJsZWQgPSB0cnVlOwoKICBpZiAoIWZpbGVzKSB7CiAgICByZXR1cm4gewogICAgICByZXNwb25zZTogewogICAgICAgIGFjdGlvbjogJ2NvbXBsZXRlJywKICAgICAgfQogICAgfTsKICB9CgogIGZvciAoY29uc3QgZmlsZSBvZiBmaWxlcykgewogICAgY29uc3QgbGkgPSBkb2N1bWVudC5jcmVhdGVFbGVtZW50KCdsaScpOwogICAgbGkuYXBwZW5kKHNwYW4oZmlsZS5uYW1lLCB7Zm9udFdlaWdodDogJ2JvbGQnfSkpOwogICAgbGkuYXBwZW5kKHNwYW4oCiAgICAgICAgYCgke2ZpbGUudHlwZSB8fCAnbi9hJ30pIC0gJHtmaWxlLnNpemV9IGJ5dGVzLCBgICsKICAgICAgICBgbGFzdCBtb2RpZmllZDogJHsKICAgICAgICAgICAgZmlsZS5sYXN0TW9kaWZpZWREYXRlID8gZmlsZS5sYXN0TW9kaWZpZWREYXRlLnRvTG9jYWxlRGF0ZVN0cmluZygpIDoKICAgICAgICAgICAgICAgICAgICAgICAgICAgICAgICAgICAgJ24vYSd9IC0gYCkpOwogICAgY29uc3QgcGVyY2VudCA9IHNwYW4oJzAlIGRvbmUnKTsKICAgIGxpLmFwcGVuZENoaWxkKHBlcmNlbnQpOwoKICAgIG91dHB1dEVsZW1lbnQuYXBwZW5kQ2hpbGQobGkpOwoKICAgIGNvbnN0IGZpbGVEYXRhUHJvbWlzZSA9IG5ldyBQcm9taXNlKChyZXNvbHZlKSA9PiB7CiAgICAgIGNvbnN0IHJlYWRlciA9IG5ldyBGaWxlUmVhZGVyKCk7CiAgICAgIHJlYWRlci5vbmxvYWQgPSAoZSkgPT4gewogICAgICAgIHJlc29sdmUoZS50YXJnZXQucmVzdWx0KTsKICAgICAgfTsKICAgICAgcmVhZGVyLnJlYWRBc0FycmF5QnVmZmVyKGZpbGUpOwogICAgfSk7CiAgICAvLyBXYWl0IGZvciB0aGUgZGF0YSB0byBiZSByZWFkeS4KICAgIGxldCBmaWxlRGF0YSA9IHlpZWxkIHsKICAgICAgcHJvbWlzZTogZmlsZURhdGFQcm9taXNlLAogICAgICByZXNwb25zZTogewogICAgICAgIGFjdGlvbjogJ2NvbnRpbnVlJywKICAgICAgfQogICAgfTsKCiAgICAvLyBVc2UgYSBjaHVua2VkIHNlbmRpbmcgdG8gYXZvaWQgbWVzc2FnZSBzaXplIGxpbWl0cy4gU2VlIGIvNjIxMTU2NjAuCiAgICBsZXQgcG9zaXRpb24gPSAwOwogICAgZG8gewogICAgICBjb25zdCBsZW5ndGggPSBNYXRoLm1pbihmaWxlRGF0YS5ieXRlTGVuZ3RoIC0gcG9zaXRpb24sIE1BWF9QQVlMT0FEX1NJWkUpOwogICAgICBjb25zdCBjaHVuayA9IG5ldyBVaW50OEFycmF5KGZpbGVEYXRhLCBwb3NpdGlvbiwgbGVuZ3RoKTsKICAgICAgcG9zaXRpb24gKz0gbGVuZ3RoOwoKICAgICAgY29uc3QgYmFzZTY0ID0gYnRvYShTdHJpbmcuZnJvbUNoYXJDb2RlLmFwcGx5KG51bGwsIGNodW5rKSk7CiAgICAgIHlpZWxkIHsKICAgICAgICByZXNwb25zZTogewogICAgICAgICAgYWN0aW9uOiAnYXBwZW5kJywKICAgICAgICAgIGZpbGU6IGZpbGUubmFtZSwKICAgICAgICAgIGRhdGE6IGJhc2U2NCwKICAgICAgICB9LAogICAgICB9OwoKICAgICAgbGV0IHBlcmNlbnREb25lID0gZmlsZURhdGEuYnl0ZUxlbmd0aCA9PT0gMCA/CiAgICAgICAgICAxMDAgOgogICAgICAgICAgTWF0aC5yb3VuZCgocG9zaXRpb24gLyBmaWxlRGF0YS5ieXRlTGVuZ3RoKSAqIDEwMCk7CiAgICAgIHBlcmNlbnQudGV4dENvbnRlbnQgPSBgJHtwZXJjZW50RG9uZX0lIGRvbmVgOwoKICAgIH0gd2hpbGUgKHBvc2l0aW9uIDwgZmlsZURhdGEuYnl0ZUxlbmd0aCk7CiAgfQoKICAvLyBBbGwgZG9uZS4KICB5aWVsZCB7CiAgICByZXNwb25zZTogewogICAgICBhY3Rpb246ICdjb21wbGV0ZScsCiAgICB9CiAgfTsKfQoKc2NvcGUuZ29vZ2xlID0gc2NvcGUuZ29vZ2xlIHx8IHt9OwpzY29wZS5nb29nbGUuY29sYWIgPSBzY29wZS5nb29nbGUuY29sYWIgfHwge307CnNjb3BlLmdvb2dsZS5jb2xhYi5fZmlsZXMgPSB7CiAgX3VwbG9hZEZpbGVzLAogIF91cGxvYWRGaWxlc0NvbnRpbnVlLAp9Owp9KShzZWxmKTsK",
              "ok": true,
              "headers": [
                [
                  "content-type",
                  "application/javascript"
                ]
              ],
              "status": 200,
              "status_text": ""
            }
          },
          "base_uri": "https://localhost:8080/",
          "height": 304
        },
        "outputId": "2b8943c4-596d-41b0-897a-4f14ff1b7c92"
      },
      "source": [
        "# Upload file\n",
        "path = list(files.upload().keys())[0]\n",
        "tolerancia = 5\n",
        "\n",
        "# resolviendo modelo\n",
        "drai, prof, resp = run_model(path, tolerancia)\n",
        "\n",
        "#Descargando información\n",
        "with pd.ExcelWriter('output.xlsx') as writer:  \n",
        "  drai.to_excel(writer, sheet_name='DRAI')\n",
        "  prof.to_excel(writer, sheet_name='Departamento')\n",
        "\n",
        "files.download('output.xlsx')"
      ],
      "execution_count": 7,
      "outputs": [
        {
          "output_type": "display_data",
          "data": {
            "text/html": [
              "\n",
              "     <input type=\"file\" id=\"files-592a074d-c426-4b70-a553-94ac60f6b3f1\" name=\"files[]\" multiple disabled\n",
              "        style=\"border:none\" />\n",
              "     <output id=\"result-592a074d-c426-4b70-a553-94ac60f6b3f1\">\n",
              "      Upload widget is only available when the cell has been executed in the\n",
              "      current browser session. Please rerun this cell to enable.\n",
              "      </output>\n",
              "      <script src=\"/nbextensions/google.colab/files.js\"></script> "
            ],
            "text/plain": [
              "<IPython.core.display.HTML object>"
            ]
          },
          "metadata": {
            "tags": []
          }
        },
        {
          "output_type": "stream",
          "text": [
            "Saving InstanciaBloque19-PisoDos.xlsx to InstanciaBloque19-PisoDos (4).xlsx\n"
          ],
          "name": "stdout"
        },
        {
          "output_type": "stream",
          "text": [
            "/content/asing_room.py:28: SettingWithCopyWarning: \n",
            "A value is trying to be set on a copy of a slice from a DataFrame\n",
            "\n",
            "See the caveats in the documentation: https://pandas.pydata.org/pandas-docs/stable/user_guide/indexing.html#returning-a-view-versus-a-copy\n",
            "  grupos['MAX'][i] = df['MAX'][i]\n"
          ],
          "name": "stderr"
        },
        {
          "output_type": "stream",
          "text": [
            "Status: Optimal\n",
            "Status: Optimal\n",
            "Status: Optimal\n",
            "Status: Optimal\n",
            "Status: Optimal\n",
            "Status: Optimal\n"
          ],
          "name": "stdout"
        },
        {
          "output_type": "display_data",
          "data": {
            "application/javascript": [
              "\n",
              "    async function download(id, filename, size) {\n",
              "      if (!google.colab.kernel.accessAllowed) {\n",
              "        return;\n",
              "      }\n",
              "      const div = document.createElement('div');\n",
              "      const label = document.createElement('label');\n",
              "      label.textContent = `Downloading \"${filename}\": `;\n",
              "      div.appendChild(label);\n",
              "      const progress = document.createElement('progress');\n",
              "      progress.max = size;\n",
              "      div.appendChild(progress);\n",
              "      document.body.appendChild(div);\n",
              "\n",
              "      const buffers = [];\n",
              "      let downloaded = 0;\n",
              "\n",
              "      const channel = await google.colab.kernel.comms.open(id);\n",
              "      // Send a message to notify the kernel that we're ready.\n",
              "      channel.send({})\n",
              "\n",
              "      for await (const message of channel.messages) {\n",
              "        // Send a message to notify the kernel that we're ready.\n",
              "        channel.send({})\n",
              "        if (message.buffers) {\n",
              "          for (const buffer of message.buffers) {\n",
              "            buffers.push(buffer);\n",
              "            downloaded += buffer.byteLength;\n",
              "            progress.value = downloaded;\n",
              "          }\n",
              "        }\n",
              "      }\n",
              "      const blob = new Blob(buffers, {type: 'application/binary'});\n",
              "      const a = document.createElement('a');\n",
              "      a.href = window.URL.createObjectURL(blob);\n",
              "      a.download = filename;\n",
              "      div.appendChild(a);\n",
              "      a.click();\n",
              "      div.remove();\n",
              "    }\n",
              "  "
            ],
            "text/plain": [
              "<IPython.core.display.Javascript object>"
            ]
          },
          "metadata": {
            "tags": []
          }
        },
        {
          "output_type": "display_data",
          "data": {
            "application/javascript": [
              "download(\"download_2eeb7de3-a431-4bee-846b-615d0703c0dd\", \"output.xlsx\", 20844)"
            ],
            "text/plain": [
              "<IPython.core.display.Javascript object>"
            ]
          },
          "metadata": {
            "tags": []
          }
        }
      ]
    },
    {
      "cell_type": "code",
      "metadata": {
        "colab": {
          "base_uri": "https://localhost:8080/",
          "height": 17
        },
        "id": "efAndM2pQxmF",
        "outputId": "35975632-2e11-4112-8756-c3db12cd6897"
      },
      "source": [
        "#Descargando información\n",
        "with pd.ExcelWriter('output.xlsx') as writer:  \n",
        "  drai.to_excel(writer, sheet_name='DRAI')\n",
        "  prof.to_excel(writer, sheet_name='Departamento')\n",
        "\n",
        "files.download('output.xlsx')"
      ],
      "execution_count": 4,
      "outputs": [
        {
          "output_type": "display_data",
          "data": {
            "application/javascript": [
              "\n",
              "    async function download(id, filename, size) {\n",
              "      if (!google.colab.kernel.accessAllowed) {\n",
              "        return;\n",
              "      }\n",
              "      const div = document.createElement('div');\n",
              "      const label = document.createElement('label');\n",
              "      label.textContent = `Downloading \"${filename}\": `;\n",
              "      div.appendChild(label);\n",
              "      const progress = document.createElement('progress');\n",
              "      progress.max = size;\n",
              "      div.appendChild(progress);\n",
              "      document.body.appendChild(div);\n",
              "\n",
              "      const buffers = [];\n",
              "      let downloaded = 0;\n",
              "\n",
              "      const channel = await google.colab.kernel.comms.open(id);\n",
              "      // Send a message to notify the kernel that we're ready.\n",
              "      channel.send({})\n",
              "\n",
              "      for await (const message of channel.messages) {\n",
              "        // Send a message to notify the kernel that we're ready.\n",
              "        channel.send({})\n",
              "        if (message.buffers) {\n",
              "          for (const buffer of message.buffers) {\n",
              "            buffers.push(buffer);\n",
              "            downloaded += buffer.byteLength;\n",
              "            progress.value = downloaded;\n",
              "          }\n",
              "        }\n",
              "      }\n",
              "      const blob = new Blob(buffers, {type: 'application/binary'});\n",
              "      const a = document.createElement('a');\n",
              "      a.href = window.URL.createObjectURL(blob);\n",
              "      a.download = filename;\n",
              "      div.appendChild(a);\n",
              "      a.click();\n",
              "      div.remove();\n",
              "    }\n",
              "  "
            ],
            "text/plain": [
              "<IPython.core.display.Javascript object>"
            ]
          },
          "metadata": {
            "tags": []
          }
        },
        {
          "output_type": "display_data",
          "data": {
            "application/javascript": [
              "download(\"download_826634b9-d3f4-4cf8-b3b2-38c7a945e9de\", \"output.xlsx\", 20844)"
            ],
            "text/plain": [
              "<IPython.core.display.Javascript object>"
            ]
          },
          "metadata": {
            "tags": []
          }
        }
      ]
    },
    {
      "cell_type": "code",
      "metadata": {
        "id": "YtHecgV1dpMj",
        "colab": {
          "base_uri": "https://localhost:8080/",
          "height": 664
        },
        "outputId": "cc0e8a5f-e69a-4bc9-8c14-e8115334f366"
      },
      "source": [
        "pd.DataFrame.from_dict(resp)"
      ],
      "execution_count": 5,
      "outputs": [
        {
          "output_type": "execute_result",
          "data": {
            "text/html": [
              "<div>\n",
              "<style scoped>\n",
              "    .dataframe tbody tr th:only-of-type {\n",
              "        vertical-align: middle;\n",
              "    }\n",
              "\n",
              "    .dataframe tbody tr th {\n",
              "        vertical-align: top;\n",
              "    }\n",
              "\n",
              "    .dataframe thead th {\n",
              "        text-align: right;\n",
              "    }\n",
              "</style>\n",
              "<table border=\"1\" class=\"dataframe\">\n",
              "  <thead>\n",
              "    <tr style=\"text-align: right;\">\n",
              "      <th></th>\n",
              "      <th>Tolerancia</th>\n",
              "      <th>asignados</th>\n",
              "      <th>n_grupos</th>\n",
              "      <th>alumnos</th>\n",
              "      <th>sin_asignar</th>\n",
              "      <th>n_grupos_sin</th>\n",
              "      <th>alumnos_sin</th>\n",
              "      <th>prom_sub_uso</th>\n",
              "      <th>max_sub_uso</th>\n",
              "      <th>min_sub_uso</th>\n",
              "    </tr>\n",
              "  </thead>\n",
              "  <tbody>\n",
              "    <tr>\n",
              "      <th>L</th>\n",
              "      <td>5</td>\n",
              "      <td>[BII724-1, BII808-1, BII808-2, BII921-1, ICL24...</td>\n",
              "      <td>45</td>\n",
              "      <td>1411</td>\n",
              "      <td>[IMT205-2, IQU435-2, ISA404-2, IMC273-2, INQ21...</td>\n",
              "      <td>199</td>\n",
              "      <td>6678</td>\n",
              "      <td>14.311111</td>\n",
              "      <td>38</td>\n",
              "      <td>0</td>\n",
              "    </tr>\n",
              "    <tr>\n",
              "      <th>M</th>\n",
              "      <td>5</td>\n",
              "      <td>[BIF524-1, BII512-1, BII512-2, BII716-1, BII72...</td>\n",
              "      <td>99</td>\n",
              "      <td>3247</td>\n",
              "      <td>[IQU524-3, IQU562-9, INM275-13, IMC273-2, INQ2...</td>\n",
              "      <td>145</td>\n",
              "      <td>4842</td>\n",
              "      <td>11.898990</td>\n",
              "      <td>45</td>\n",
              "      <td>0</td>\n",
              "    </tr>\n",
              "    <tr>\n",
              "      <th>W</th>\n",
              "      <td>5</td>\n",
              "      <td>[BII120-1, BII408-1, BII516-1, BII616-1, BII71...</td>\n",
              "      <td>92</td>\n",
              "      <td>2891</td>\n",
              "      <td>[IQU524-3, IQU562-9, INM275-13, IMT205-2, IQU4...</td>\n",
              "      <td>152</td>\n",
              "      <td>5198</td>\n",
              "      <td>12.706522</td>\n",
              "      <td>45</td>\n",
              "      <td>0</td>\n",
              "    </tr>\n",
              "    <tr>\n",
              "      <th>J</th>\n",
              "      <td>5</td>\n",
              "      <td>[BIF524-1, BII512-1, BII512-2, BII716-1, BIM30...</td>\n",
              "      <td>97</td>\n",
              "      <td>3212</td>\n",
              "      <td>[IQU524-3, IQU562-9, INM275-13, IMC273-2, INQ2...</td>\n",
              "      <td>147</td>\n",
              "      <td>4877</td>\n",
              "      <td>12.195876</td>\n",
              "      <td>45</td>\n",
              "      <td>0</td>\n",
              "    </tr>\n",
              "    <tr>\n",
              "      <th>V</th>\n",
              "      <td>5</td>\n",
              "      <td>[BID520-1, BII120-1, BII408-1, BII516-1, BII61...</td>\n",
              "      <td>81</td>\n",
              "      <td>2571</td>\n",
              "      <td>[IQU524-3, IQU562-9, INM275-13, IMT205-2, IQU4...</td>\n",
              "      <td>163</td>\n",
              "      <td>5518</td>\n",
              "      <td>12.641975</td>\n",
              "      <td>45</td>\n",
              "      <td>0</td>\n",
              "    </tr>\n",
              "    <tr>\n",
              "      <th>S</th>\n",
              "      <td>5</td>\n",
              "      <td>[ICL247-1, IEI508-1, IEI612-1, IEO423-1, IEO99...</td>\n",
              "      <td>24</td>\n",
              "      <td>787</td>\n",
              "      <td>[IQU524-3, IQU562-9, IMT205-2, IQU435-2, ISA40...</td>\n",
              "      <td>220</td>\n",
              "      <td>7302</td>\n",
              "      <td>12.208333</td>\n",
              "      <td>40</td>\n",
              "      <td>0</td>\n",
              "    </tr>\n",
              "  </tbody>\n",
              "</table>\n",
              "</div>"
            ],
            "text/plain": [
              "   Tolerancia  ... min_sub_uso\n",
              "L           5  ...           0\n",
              "M           5  ...           0\n",
              "W           5  ...           0\n",
              "J           5  ...           0\n",
              "V           5  ...           0\n",
              "S           5  ...           0\n",
              "\n",
              "[6 rows x 10 columns]"
            ]
          },
          "metadata": {
            "tags": []
          },
          "execution_count": 5
        }
      ]
    },
    {
      "cell_type": "markdown",
      "metadata": {
        "id": "paSld35Gq6x3"
      },
      "source": [
        "## Análisis de Sensibilidad"
      ]
    },
    {
      "cell_type": "code",
      "metadata": {
        "id": "jSKHj4xCrOGR",
        "colab": {
          "base_uri": "https://localhost:8080/"
        },
        "outputId": "56ebc2e0-43eb-4555-e47e-89c03b6b5c24"
      },
      "source": [
        "df = pd.DataFrame()\n",
        "tolerancias = [1,2,3,4,5,6,7,8,9,10]\n",
        "for tolerancia in tolerancias:\n",
        "  # resolviendo modelo\n",
        "  drai, prof, resp = run_model(path, tolerancia)\n",
        "  df = pd.concat([df, pd.DataFrame.from_dict(resp)])"
      ],
      "execution_count": 8,
      "outputs": [
        {
          "output_type": "stream",
          "text": [
            "/content/asing_room.py:28: SettingWithCopyWarning: \n",
            "A value is trying to be set on a copy of a slice from a DataFrame\n",
            "\n",
            "See the caveats in the documentation: https://pandas.pydata.org/pandas-docs/stable/user_guide/indexing.html#returning-a-view-versus-a-copy\n",
            "  grupos['MAX'][i] = df['MAX'][i]\n"
          ],
          "name": "stderr"
        },
        {
          "output_type": "stream",
          "text": [
            "Status: Optimal\n",
            "Status: Optimal\n",
            "Status: Optimal\n",
            "Status: Optimal\n",
            "Status: Optimal\n",
            "Status: Optimal\n",
            "Status: Optimal\n",
            "Status: Optimal\n",
            "Status: Optimal\n",
            "Status: Optimal\n",
            "Status: Optimal\n",
            "Status: Optimal\n",
            "Status: Optimal\n",
            "Status: Optimal\n",
            "Status: Optimal\n",
            "Status: Optimal\n",
            "Status: Optimal\n",
            "Status: Optimal\n",
            "Status: Optimal\n",
            "Status: Optimal\n",
            "Status: Optimal\n",
            "Status: Optimal\n",
            "Status: Optimal\n",
            "Status: Optimal\n",
            "Status: Optimal\n",
            "Status: Optimal\n",
            "Status: Optimal\n",
            "Status: Optimal\n",
            "Status: Optimal\n",
            "Status: Optimal\n",
            "Status: Optimal\n",
            "Status: Optimal\n",
            "Status: Optimal\n",
            "Status: Optimal\n",
            "Status: Optimal\n",
            "Status: Optimal\n",
            "Status: Optimal\n",
            "Status: Optimal\n",
            "Status: Optimal\n",
            "Status: Optimal\n",
            "Status: Optimal\n",
            "Status: Optimal\n",
            "Status: Optimal\n",
            "Status: Optimal\n",
            "Status: Optimal\n",
            "Status: Optimal\n",
            "Status: Optimal\n",
            "Status: Optimal\n",
            "Status: Optimal\n",
            "Status: Optimal\n",
            "Status: Optimal\n",
            "Status: Optimal\n",
            "Status: Optimal\n",
            "Status: Optimal\n",
            "Status: Optimal\n",
            "Status: Optimal\n",
            "Status: Optimal\n",
            "Status: Optimal\n",
            "Status: Optimal\n",
            "Status: Optimal\n"
          ],
          "name": "stdout"
        }
      ]
    },
    {
      "cell_type": "code",
      "metadata": {
        "id": "0S03fIPnsuBT",
        "colab": {
          "base_uri": "https://localhost:8080/",
          "height": 564
        },
        "outputId": "adf0a9ad-1bfe-434e-825c-c9e4ec6224be"
      },
      "source": [
        "df.head()"
      ],
      "execution_count": 10,
      "outputs": [
        {
          "output_type": "execute_result",
          "data": {
            "text/html": [
              "<div>\n",
              "<style scoped>\n",
              "    .dataframe tbody tr th:only-of-type {\n",
              "        vertical-align: middle;\n",
              "    }\n",
              "\n",
              "    .dataframe tbody tr th {\n",
              "        vertical-align: top;\n",
              "    }\n",
              "\n",
              "    .dataframe thead th {\n",
              "        text-align: right;\n",
              "    }\n",
              "</style>\n",
              "<table border=\"1\" class=\"dataframe\">\n",
              "  <thead>\n",
              "    <tr style=\"text-align: right;\">\n",
              "      <th></th>\n",
              "      <th>Tolerancia</th>\n",
              "      <th>asignados</th>\n",
              "      <th>n_grupos</th>\n",
              "      <th>alumnos</th>\n",
              "      <th>sin_asignar</th>\n",
              "      <th>n_grupos_sin</th>\n",
              "      <th>alumnos_sin</th>\n",
              "      <th>prom_sub_uso</th>\n",
              "      <th>max_sub_uso</th>\n",
              "      <th>min_sub_uso</th>\n",
              "    </tr>\n",
              "  </thead>\n",
              "  <tbody>\n",
              "    <tr>\n",
              "      <th>L</th>\n",
              "      <td>1</td>\n",
              "      <td>[BII724-1, BII808-1, BII808-2, BII921-1, ICL24...</td>\n",
              "      <td>45</td>\n",
              "      <td>1411</td>\n",
              "      <td>[IMT205-2, IQU435-2, ISA404-2, IMC273-2, INQ21...</td>\n",
              "      <td>199</td>\n",
              "      <td>6678</td>\n",
              "      <td>14.311111</td>\n",
              "      <td>38</td>\n",
              "      <td>0</td>\n",
              "    </tr>\n",
              "    <tr>\n",
              "      <th>M</th>\n",
              "      <td>1</td>\n",
              "      <td>[BIF524-1, BII512-1, BII512-2, BII716-1, BII72...</td>\n",
              "      <td>99</td>\n",
              "      <td>3247</td>\n",
              "      <td>[IQU524-3, IQU562-9, INM275-13, IMC273-2, INQ2...</td>\n",
              "      <td>145</td>\n",
              "      <td>4842</td>\n",
              "      <td>11.898990</td>\n",
              "      <td>45</td>\n",
              "      <td>0</td>\n",
              "    </tr>\n",
              "    <tr>\n",
              "      <th>W</th>\n",
              "      <td>1</td>\n",
              "      <td>[BII120-1, BII408-1, BII516-1, BII616-1, BII71...</td>\n",
              "      <td>92</td>\n",
              "      <td>2891</td>\n",
              "      <td>[IQU524-3, IQU562-9, INM275-13, IMT205-2, IQU4...</td>\n",
              "      <td>152</td>\n",
              "      <td>5198</td>\n",
              "      <td>12.706522</td>\n",
              "      <td>45</td>\n",
              "      <td>0</td>\n",
              "    </tr>\n",
              "    <tr>\n",
              "      <th>J</th>\n",
              "      <td>1</td>\n",
              "      <td>[BIF524-1, BII512-1, BII512-2, BII716-1, BIM30...</td>\n",
              "      <td>97</td>\n",
              "      <td>3212</td>\n",
              "      <td>[IQU524-3, IQU562-9, INM275-13, IMC273-2, INQ2...</td>\n",
              "      <td>147</td>\n",
              "      <td>4877</td>\n",
              "      <td>12.195876</td>\n",
              "      <td>45</td>\n",
              "      <td>0</td>\n",
              "    </tr>\n",
              "    <tr>\n",
              "      <th>V</th>\n",
              "      <td>1</td>\n",
              "      <td>[BID520-1, BII120-1, BII408-1, BII516-1, BII61...</td>\n",
              "      <td>81</td>\n",
              "      <td>2571</td>\n",
              "      <td>[IQU524-3, IQU562-9, INM275-13, IMT205-2, IQU4...</td>\n",
              "      <td>163</td>\n",
              "      <td>5518</td>\n",
              "      <td>12.641975</td>\n",
              "      <td>45</td>\n",
              "      <td>0</td>\n",
              "    </tr>\n",
              "  </tbody>\n",
              "</table>\n",
              "</div>"
            ],
            "text/plain": [
              "   Tolerancia  ... min_sub_uso\n",
              "L           1  ...           0\n",
              "M           1  ...           0\n",
              "W           1  ...           0\n",
              "J           1  ...           0\n",
              "V           1  ...           0\n",
              "\n",
              "[5 rows x 10 columns]"
            ]
          },
          "metadata": {
            "tags": []
          },
          "execution_count": 10
        }
      ]
    },
    {
      "cell_type": "code",
      "metadata": {
        "colab": {
          "base_uri": "https://localhost:8080/",
          "height": 318
        },
        "id": "6US-yOzbRhoT",
        "outputId": "44e281f3-5d09-40a8-cd19-063721312808"
      },
      "source": [
        "import matplotlib.pyplot as plt\n",
        "df.boxplot('n_grupos', 'Tolerancia')"
      ],
      "execution_count": 21,
      "outputs": [
        {
          "output_type": "execute_result",
          "data": {
            "text/plain": [
              "<matplotlib.axes._subplots.AxesSubplot at 0x7f9f15bc7490>"
            ]
          },
          "metadata": {
            "tags": []
          },
          "execution_count": 21
        },
        {
          "output_type": "display_data",
          "data": {
            "image/png": "[encoded data removed]",
            "text/plain": [
              "<Figure size 432x288 with 1 Axes>"
            ]
          },
          "metadata": {
            "tags": [],
            "needs_background": "light"
          }
        }
      ]
    },
    {
      "cell_type": "code",
      "metadata": {
        "colab": {
          "base_uri": "https://localhost:8080/",
          "height": 318
        },
        "id": "BNL1gvIpSQjO",
        "outputId": "f6191711-5ba9-46fe-f8de-3ab88d56e015"
      },
      "source": [
        "df.boxplot('alumnos','Tolerancia')"
      ],
      "execution_count": 20,
      "outputs": [
        {
          "output_type": "execute_result",
          "data": {
            "text/plain": [
              "<matplotlib.axes._subplots.AxesSubplot at 0x7f9f15a451d0>"
            ]
          },
          "metadata": {
            "tags": []
          },
          "execution_count": 20
        },
        {
          "output_type": "display_data",
          "data": {
            "image/png": "[encoded data removed]",
            "text/plain": [
              "<Figure size 432x288 with 1 Axes>"
            ]
          },
          "metadata": {
            "tags": [],
            "needs_background": "light"
          }
        }
      ]
    }
  ]
}